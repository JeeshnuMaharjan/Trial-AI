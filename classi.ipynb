{
  "nbformat": 4,
  "nbformat_minor": 0,
  "metadata": {
    "colab": {
      "provenance": []
    },
    "kernelspec": {
      "name": "python3",
      "display_name": "Python 3"
    },
    "language_info": {
      "name": "python"
    }
  },
  "cells": [
    {
      "cell_type": "markdown",
      "source": [
        "## **Mounting Google Drive**"
      ],
      "metadata": {
        "id": "5_S7JpdjGiqH"
      }
    },
    {
      "cell_type": "code",
      "source": [
        "from google.colab import drive\n",
        "drive.mount('/content/drive')"
      ],
      "metadata": {
        "colab": {
          "base_uri": "https://localhost:8080/"
        },
        "id": "5b5eJU1S7VD2",
        "outputId": "355ef459-c9a6-40d9-91a6-ada7847e0988"
      },
      "execution_count": null,
      "outputs": [
        {
          "output_type": "stream",
          "name": "stdout",
          "text": [
            "Drive already mounted at /content/drive; to attempt to forcibly remount, call drive.mount(\"/content/drive\", force_remount=True).\n"
          ]
        }
      ]
    },
    {
      "cell_type": "markdown",
      "source": [
        "# **Data Preprocessing**\n",
        "---\n",
        "1.   Loading the dataset through google drive.\n",
        "2.   Displaying first five rows.\n",
        "3.   Cleaning the Data by checking any missing or duplicate values.\n",
        "4.   Sorting needed values in order.\n",
        "5.   Creating sub-data if needed.\n",
        "\n"
      ],
      "metadata": {
        "id": "6XUI8J2sG5ag"
      }
    },
    {
      "cell_type": "code",
      "source": [
        "import pandas as pd\n",
        "import matplotlib.pyplot as plt\n",
        "\n",
        "\n",
        "#         DATA OVERVIEW\n",
        "# Loading the dataset using pandas\n",
        "crop_recommendation_df = pd.read_csv(\"/content/drive/MyDrive/Crop_recommendation.csv\")\n",
        "\n",
        "print(\"\\t\\t\\t\\033[1mDATA PREPROCESSING\\033[0m\\n\\n\")\n",
        "print(\"\\t\\t\\t\\033[1mDATASET OVERVIEW:\\033[0m\\n\")\n",
        "\n",
        "# Previewing the first 5 rows of the dataset\n",
        "print(\"\\033[4mFIRST 5 ROWS OF THE DATASET\\033[0m\")\n",
        "print(crop_recommendation_df.head())\n",
        "print()\n",
        "\n",
        "# Identifying the number of rows and columns\n",
        "rows, columns = crop_recommendation_df.shape\n",
        "print(f\"\\n\\033[4mTHE NUMBER OF ROWS AND COLUMNS\\033[0m \\nRows: \\033[1m{rows}\\033[0m \\nColumns: \\033[1m{columns}\\033[0m\")\n",
        "print()\n",
        "\n",
        "# Listing all columns with their data types\n",
        "print(\"\\nCOLUMN\\t\\tDATATYPE\")\n",
        "print(\"-----------------------\")\n",
        "print(crop_recommendation_df.dtypes)\n",
        "print()\n",
        "\n",
        "\n",
        "#       FINDING MISSING VALUES\n",
        "# Checking for any missing values in the dataset\n",
        "missing_values = crop_recommendation_df.isnull().sum()\n",
        "\n",
        "# Displaying the total count of missing values for each column\n",
        "print(\"\\n     \\033[1mMISSING VALUE:\\033[0m\")\n",
        "print(\"\\nCOLUMN \\t  MISSING COUNT\")\n",
        "print(\"-----------------------\")\n",
        "print(missing_values)\n",
        "print()\n",
        "\n",
        "#       CHECKING FOR DUPLICATE ROWS\n",
        "print(f\"\\n\\033[4mNUMBER OF DUPLICATE ROWS\\033[0m -> {crop_recommendation_df.duplicated().sum()}\")\n",
        "print(\"\\n\\033[1mCleaned dataset saved successfully.\\033[0m\\n\")\n",
        "\n",
        "\n",
        "#       CREATING, SORTING AND FILTERING SUB-SET FOR ONLY FRUITS\n",
        "# List of crops (vegtable) to remove\n",
        "excluded_crops = [\n",
        "    \"rice\", \"maize\", \"jute\", \"cotton\", \"lentil\", \"blackgram\", \"mungbean\",\n",
        "    \"mothbeans\", \"pigeonpeas\", \"kidneybeans\", \"chickpea\", \"coffee\"\n",
        "]\n",
        "\n",
        "# Creating sub-data of only fruit crops\n",
        "fruit_recommendation_df = crop_recommendation_df[~crop_recommendation_df['crops'].isin(excluded_crops)]\n",
        "\n",
        "# Sorting the Target variable in alphabetic order\n",
        "fruit_recommendation_df = fruit_recommendation_df.sort_values(by=\"crops\")\n",
        "\n",
        "# Saving the new dataset\n",
        "fruit_recommendation_df.to_csv(\"/content/drive/MyDrive/Fruit_Recommendation_Dataset.csv\", index=False)\n",
        "\n",
        "# Displaying the first 5 filtered and sorted sub-dataset\n",
        "print(\"\\n\\t\\t\\t\\033[1mFILTERING AND SORTING\\033[0m\\n\")\n",
        "print(\"\\033[4mFIRST 5 ROWS OF FILTERED AND SORTED SUB-DATASET:\\033[0m\")\n",
        "print(fruit_recommendation_df.head())"
      ],
      "metadata": {
        "colab": {
          "base_uri": "https://localhost:8080/"
        },
        "id": "DyAXH12U7ptW",
        "outputId": "d8cf76a3-01b6-4be8-cf2a-601cddd96958",
        "collapsed": true
      },
      "execution_count": null,
      "outputs": [
        {
          "output_type": "stream",
          "name": "stdout",
          "text": [
            "\t\t\t\u001b[1mDATA PREPROCESSING\u001b[0m\n",
            "\n",
            "\n",
            "\t\t\t\u001b[1mDATASET OVERVIEW:\u001b[0m\n",
            "\n",
            "\u001b[4mFIRST 5 ROWS OF THE DATASET\u001b[0m\n",
            "    N   P   K  temperature   humidity        ph    rainfall crops\n",
            "0  90  42  43    20.879744  82.002744  6.502985  202.935536  rice\n",
            "1  85  58  41    21.770462  80.319644  7.038096  226.655537  rice\n",
            "2  60  55  44    23.004459  82.320763  7.840207  263.964248  rice\n",
            "3  74  35  40    26.491096  80.158363  6.980401  242.864034  rice\n",
            "4  78  42  42    20.130175  81.604873  7.628473  262.717340  rice\n",
            "\n",
            "\n",
            "\u001b[4mTHE NUMBER OF ROWS AND COLUMNS\u001b[0m \n",
            "Rows: \u001b[1m2200\u001b[0m \n",
            "Columns: \u001b[1m8\u001b[0m\n",
            "\n",
            "\n",
            "COLUMN\t\tDATATYPE\n",
            "-----------------------\n",
            "N                int64\n",
            "P                int64\n",
            "K                int64\n",
            "temperature    float64\n",
            "humidity       float64\n",
            "ph             float64\n",
            "rainfall       float64\n",
            "crops           object\n",
            "dtype: object\n",
            "\n",
            "\n",
            "     \u001b[1mMISSING VALUE:\u001b[0m\n",
            "\n",
            "COLUMN \t  MISSING COUNT\n",
            "-----------------------\n",
            "N              0\n",
            "P              0\n",
            "K              0\n",
            "temperature    0\n",
            "humidity       0\n",
            "ph             0\n",
            "rainfall       0\n",
            "crops          0\n",
            "dtype: int64\n",
            "\n",
            "\n",
            "\u001b[4mNUMBER OF DUPLICATE ROWS\u001b[0m -> 0\n",
            "\n",
            "\u001b[1mCleaned dataset saved successfully.\u001b[0m\n",
            "\n",
            "\n",
            "\t\t\t\u001b[1mFILTERING AND SORTING\u001b[0m\n",
            "\n",
            "\u001b[4mFIRST 5 ROWS OF FILTERED AND SORTED SUB-DATASET:\u001b[0m\n",
            "       N    P    K  temperature   humidity        ph    rainfall  crops\n",
            "1598  36  144  196    23.651676  94.505288  6.496934  115.361127  apple\n",
            "1571   5  136  195    22.356287  91.923605  6.264203  107.769741  apple\n",
            "1570  15  123  204    22.527093  92.547804  6.365973  115.383007  apple\n",
            "1569   3  141  197    21.981419  91.127193  6.142803  115.478915  apple\n",
            "1568  29  145  205    22.812276  92.129921  6.212303  109.338355  apple\n"
          ]
        }
      ]
    },
    {
      "cell_type": "markdown",
      "source": [
        "# **Data Visualaisation**"
      ],
      "metadata": {
        "id": "suZsjMxIQDij"
      }
    },
    {
      "cell_type": "code",
      "source": [
        "import pandas as pd\n",
        "import matplotlib.pyplot as plt\n",
        "import seaborn as sns\n",
        "\n",
        "# Group by crop and calculate average N, P, K levels\n",
        "npk_avg = fruit_recommendation_df.groupby(\"crops\")[[\"N\", \"P\", \"K\"]].mean()\n",
        "\n",
        "# Create heatmap\n",
        "plt.figure(figsize=(12, 6))\n",
        "sns.heatmap(npk_avg, annot=True, cmap=\"coolwarm\", linewidths=0.5, fmt=\".1f\")\n",
        "\n",
        "plt.title(\"Influence of NPK on Different Fruit Growth\")\n",
        "plt.xlabel(\"Nutrient Type\")\n",
        "plt.ylabel(\"Fruit Type\")\n",
        "plt.xticks(rotation=0)\n",
        "plt.yticks(rotation=0)\n",
        "plt.show()\n"
      ],
      "metadata": {
        "colab": {
          "base_uri": "https://localhost:8080/",
          "height": 564
        },
        "id": "xny0peqA-6AT",
        "outputId": "5ed63556-dfa3-4e38-8673-ab5e7705a6e0"
      },
      "execution_count": null,
      "outputs": [
        {
          "output_type": "display_data",
          "data": {
            "text/plain": [
              "<Figure size 1200x600 with 2 Axes>"
            ],
            "image/png": "[encoded data removed]"
          },
          "metadata": {}
        }
      ]
    },
    {
      "cell_type": "code",
      "source": [
        "plt.figure(figsize=(12,6))\n",
        "sns.boxplot(x=\"crops\", y=\"rainfall\", data=fruit_recommendation_df, hue=\"crops\", palette=\"Set2\")\n",
        "plt.xticks(rotation=90)\n",
        "plt.title(\"Influence of Rainfall on Different Crops\")\n",
        "plt.xlabel(\"Crop Type\")\n",
        "plt.ylabel(\"Rainfall (mm)\")\n",
        "plt.grid()\n",
        "plt.show()\n"
      ],
      "metadata": {
        "colab": {
          "base_uri": "https://localhost:8080/",
          "height": 410
        },
        "id": "2TMqZK1uVvyC",
        "outputId": "370ac5b2-1b12-4d19-c182-ba380540d4d2"
      },
      "execution_count": null,
      "outputs": [
        {
          "output_type": "display_data",
          "data": {
            "text/plain": [
              "<Figure size 1200x600 with 1 Axes>"
            ],
            "image/png": "[encoded data removed]"
          },
          "metadata": {}
        }
      ]
    },
    {
      "cell_type": "code",
      "source": [
        "plt.figure(figsize=(10, 6))\n",
        "sns.stripplot(\n",
        "    data=fruit_recommendation_df,\n",
        "    x='crops',\n",
        "    y='rainfall',\n",
        "    jitter=True,\n",
        "    size=8,\n",
        "    hue='crops',  # Assigning the x variable as hue\n",
        "    palette=\"Set2\",\n",
        "    legend=False  # Disabling legend to avoid duplication\n",
        ")\n",
        "plt.title('Rainfall Influence on Different Fruits')\n",
        "plt.xlabel('Crop Type')\n",
        "plt.ylabel('Rainfall (mm)')\n",
        "plt.xticks(rotation=45)\n",
        "plt.grid(True)  # Enable grid\n",
        "plt.show()\n"
      ],
      "metadata": {
        "colab": {
          "base_uri": "https://localhost:8080/",
          "height": 468
        },
        "id": "PD2nZsVGYShe",
        "outputId": "248b4bba-dd40-4e3f-91c3-abafbed803ae"
      },
      "execution_count": null,
      "outputs": [
        {
          "output_type": "display_data",
          "data": {
            "text/plain": [
              "<Figure size 1000x600 with 1 Axes>"
            ],
            "image/png": "[encoded data removed]"
          },
          "metadata": {}
        }
      ]
    },
    {
      "cell_type": "markdown",
      "source": [
        "# **Splitting Dataset into Training and Testing Sets**\n"
      ],
      "metadata": {
        "id": "jGe56XUMQVcT"
      }
    },
    {
      "cell_type": "markdown",
      "source": [
        "**Preparing data and varibales for Training and Testing**"
      ],
      "metadata": {
        "id": "jsTxVLyHRc8a"
      }
    },
    {
      "cell_type": "code",
      "source": [
        "import numpy as np\n",
        "import pandas as pd\n",
        "\n",
        "# Defining features (independent variables) and target (dependent variable)\n",
        "features = [\n",
        "    \"N\",\n",
        "    \"P\",\n",
        "    \"K\",\n",
        "    \"temperature\",\n",
        "    \"humidity\",\n",
        "    \"ph\",\n",
        "    \"rainfall\"\n",
        "]\n",
        "target = 'crops'\n",
        "\n",
        "\n",
        "# Set the correct order for the categories\n",
        "fruit_recommendation_df[target] = pd.Categorical(fruit_recommendation_df[target],\n",
        "                                                 categories=['apple', 'banana', 'coconut', 'grapes', 'mango', 'muskmelon', 'orange', 'papaya', 'pomegranate', 'watermelon'],\n",
        "                                                 ordered=True)\n",
        "\n",
        "# Convert categorical target variable into numerical labels (0, 1, 2, 3, 4, 5, 6, 7, 8, 9)\n",
        "fruit_recommendation_df[target] = fruit_recommendation_df[target].cat.codes\n",
        "\n",
        "# Verify the encoding\n",
        "print(\"\\033[1m\\033[4mENCODING FOR CROPS\\033[0m\")\n",
        "print(\"\\033[1mUnique target values:\\033[0m\", fruit_recommendation_df[target].unique())\n",
        "\n",
        "# Prepare the feature matrix X (independent variables)\n",
        "X = fruit_recommendation_df[features].values\n",
        "\n",
        "# Prepare the target variable y (dependent variable with integer labels)\n",
        "y = fruit_recommendation_df[target].values\n",
        "\n",
        "print(\"\\033[1mUnique target values in y:\\033[0m\", np.unique(y))\n",
        "# Verify the shapes of X and y\n",
        "print()\n",
        "print(\"\\033[1mShape of X:\\033[0m\", X.shape)\n",
        "print(\"\\033[1mShape of y:\\033[0m\", y.shape)\n"
      ],
      "metadata": {
        "id": "yVZmUy_i_dD0",
        "colab": {
          "base_uri": "https://localhost:8080/"
        },
        "outputId": "6605fe93-a5f7-4a6e-d0b4-b052f6031c89"
      },
      "execution_count": null,
      "outputs": [
        {
          "output_type": "stream",
          "name": "stdout",
          "text": [
            "\u001b[1m\u001b[4mENCODING FOR CROPS\u001b[0m\n",
            "\u001b[1mUnique target values:\u001b[0m [0 1 2 3 4 5 6 7 8 9]\n",
            "\u001b[1mUnique target values in y:\u001b[0m [0 1 2 3 4 5 6 7 8 9]\n",
            "\n",
            "\u001b[1mShape of X:\u001b[0m (1000, 7)\n",
            "\u001b[1mShape of y:\u001b[0m (1000,)\n"
          ]
        }
      ]
    },
    {
      "cell_type": "markdown",
      "source": [
        "**Splitting Data into Training and Testing Sets**"
      ],
      "metadata": {
        "id": "cT34rskKRlv3"
      }
    },
    {
      "cell_type": "code",
      "source": [
        "from sklearn.model_selection import train_test_split\n",
        "\n",
        "# Split data into training and testing sets (70% train, 30% test)\n",
        "X_train, X_test, y_train, y_test = train_test_split(X, y, test_size=0.3, random_state=42)"
      ],
      "metadata": {
        "id": "1h3MVIJeL5-c"
      },
      "execution_count": null,
      "outputs": []
    },
    {
      "cell_type": "markdown",
      "source": [
        "# **Building Logistic Regression for Classification dataset from Scratch**"
      ],
      "metadata": {
        "id": "jhpJh5LIQwfd"
      }
    },
    {
      "cell_type": "markdown",
      "source": [
        "**One-Hot Encoding, Bias Addition, and Weight Initialization for Multiclass Classification**"
      ],
      "metadata": {
        "id": "APl0TJ-XRzT4"
      }
    },
    {
      "cell_type": "code",
      "source": [
        "# One-hot encoding function\n",
        "def one_hot_encode(y, num_classes):\n",
        "    y = np.array(y).flatten()  # Ensure it's a 1D integer array\n",
        "    m = len(y)\n",
        "    y_encoded = np.zeros((m, num_classes))\n",
        "    for i in range(m):\n",
        "        y_encoded[i, int(y[i])] = 1  # Convert class index to integer\n",
        "    return y_encoded\n",
        "\n",
        "# Define number of classes\n",
        "num_classes = len(np.unique(y))  # Should be 10\n",
        "\n",
        "# One-hot encode the target labels\n",
        "y_train_onehot = one_hot_encode(y_train, num_classes)\n",
        "y_test_onehot = one_hot_encode(y_test, num_classes)\n",
        "\n",
        "# Add bias term manually (prepend column of ones)\n",
        "X_train_b = np.hstack((np.ones((X_train.shape[0], 1)), X_train))\n",
        "X_test_b = np.hstack((np.ones((X_test.shape[0], 1)), X_test))\n",
        "\n",
        "# Initialize weights (small random values for better training)\n",
        "W_trained = np.random.randn(X_train_b.shape[1], num_classes) * 0.01  # Small random values\n",
        "\n",
        "# Print shapes to verify\n",
        "print(\"\\033[1mTraining Set Shape:\\033[0m\")\n",
        "print(f\"X_train_b shape: {X_train_b.shape}, y_train_onehot shape: {y_train_onehot.shape}\")\n",
        "\n",
        "print(\"\\n\\033[1mTesting Set Shape:\\033[0m\")\n",
        "print(f\"X_test_b shape: {X_test_b.shape}, y_test_onehot shape: {y_test_onehot.shape}\")\n",
        "\n",
        "print(f\"\\n\\033[1mInitial Weights (W) Shape\\033[0m: {W_trained.shape}\")"
      ],
      "metadata": {
        "colab": {
          "base_uri": "https://localhost:8080/"
        },
        "id": "N8XPyn4hX23D",
        "outputId": "315cfaa2-e81d-4116-b4b9-3fe7602efb6f"
      },
      "execution_count": null,
      "outputs": [
        {
          "output_type": "stream",
          "name": "stdout",
          "text": [
            "\u001b[1mTraining Set Shape:\u001b[0m\n",
            "X_train_b shape: (700, 8), y_train_onehot shape: (700, 10)\n",
            "\n",
            "\u001b[1mTesting Set Shape:\u001b[0m\n",
            "X_test_b shape: (300, 8), y_test_onehot shape: (300, 10)\n",
            "\n",
            "\u001b[1mInitial Weights (W) Shape\u001b[0m: (8, 10)\n"
          ]
        }
      ]
    },
    {
      "cell_type": "markdown",
      "source": [
        "**Softmax For Multi-class Classification**"
      ],
      "metadata": {
        "id": "Q768_aNsSc8l"
      }
    },
    {
      "cell_type": "code",
      "source": [
        "def softmax(z):\n",
        "    \"\"\"Softmax activation function for multiclass classification\"\"\"\n",
        "    exp_z = np.exp(z - np.max(z, axis=1, keepdims=True))  # For numerical stability\n",
        "    return exp_z / np.sum(exp_z, axis=1, keepdims=True)"
      ],
      "metadata": {
        "id": "jrlqT0jxX6jI"
      },
      "execution_count": null,
      "outputs": []
    },
    {
      "cell_type": "markdown",
      "source": [
        "**Cross-entropy loss (Cost function)**"
      ],
      "metadata": {
        "id": "cp1sgpbjSdzJ"
      }
    },
    {
      "cell_type": "code",
      "source": [
        "def cross_entropy_loss(y_true, y_pred):\n",
        "    \"\"\"Cross-entropy loss function for multiclass classification\"\"\"\n",
        "    m = y_true.shape[0]  # Number of samples\n",
        "    log_likelihood = -np.log(y_pred[range(m), np.argmax(y_true, axis=1)])\n",
        "    loss = np.sum(log_likelihood) / m\n",
        "    return loss"
      ],
      "metadata": {
        "id": "pN4VN69xX84v"
      },
      "execution_count": null,
      "outputs": []
    },
    {
      "cell_type": "markdown",
      "source": [
        "**Gradient Descent Calculation**"
      ],
      "metadata": {
        "id": "zn-lyFI6Skda"
      }
    },
    {
      "cell_type": "code",
      "source": [
        "def gradient_descent(X, y, W, alpha, iterations):\n",
        "    m = X.shape[0]  # Number of training samples\n",
        "    cost_history = []\n",
        "    epsilon = 1e-10  # A small value to avoid log(0)\n",
        "\n",
        "    for i in range(iterations):\n",
        "        # Forward pass: Compute predicted probabilities using the softmax function\n",
        "        z = np.dot(X, W)  # Linear combination\n",
        "        y_pred = softmax(z)  # Softmax to get probabilities\n",
        "\n",
        "        # Add epsilon to y_pred to avoid log(0)\n",
        "        log_likelihood = -np.log(y_pred[range(m), np.argmax(y, axis=1)] + epsilon)\n",
        "\n",
        "        # Compute the cost function (cross-entropy loss)\n",
        "        cost = np.sum(log_likelihood) / m\n",
        "        cost_history.append(cost)\n",
        "\n",
        "        # Backward pass: Compute the gradient of the cost function w.r.t weights (W)\n",
        "        grad = np.dot(X.T, (y_pred - y)) / m  # Gradient of the cost function\n",
        "\n",
        "        # Update the weights using the gradient descent rule\n",
        "        W -= alpha * grad\n",
        "\n",
        "    return W, cost_history"
      ],
      "metadata": {
        "id": "83ROlo_HX-h0"
      },
      "execution_count": null,
      "outputs": []
    },
    {
      "cell_type": "code",
      "source": [
        "# Initialize weights (W) and learning rate (alpha)\n",
        "num_features = X_train.shape[1]  # Number of features\n",
        "num_classes = len(np.unique(y_train))  # Number of unique classes\n",
        "\n",
        "W_initial = np.zeros((num_features, num_classes))  # Initialize weights to zero\n",
        "alpha = 0.01  # Learning rate\n",
        "iterations = 10000  # Number of iterations\n",
        "\n",
        "# Train the logistic regression model using gradient descent\n",
        "W_trained, cost_history = gradient_descent(X_train, y_train_onehot, W_initial, alpha, iterations)"
      ],
      "metadata": {
        "id": "44ouMTIqX_89"
      },
      "execution_count": null,
      "outputs": []
    },
    {
      "cell_type": "code",
      "source": [
        "def predict(X, W):\n",
        "    \"\"\"Predict class probabilities for the given feature matrix X\"\"\"\n",
        "    z = np.dot(X, W)\n",
        "    y_pred = softmax(z)\n",
        "    return y_pred\n",
        "\n",
        "# Predict on the training and test sets\n",
        "y_train_pred = predict(X_train, W_trained)\n",
        "y_test_pred = predict(X_test, W_trained)\n",
        "\n",
        "# Convert predicted probabilities to class labels (argmax)\n",
        "y_train_pred_labels = np.argmax(y_train_pred, axis=1)\n",
        "y_test_pred_labels = np.argmax(y_test_pred, axis=1)\n",
        "\n",
        "# Use the actual integer labels for comparison\n",
        "y_train_labels = y_train  # No need for np.argmax, since y_train is already integer encoded\n",
        "y_test_labels = y_test  # Same for y_test"
      ],
      "metadata": {
        "id": "FYXE9I2qYC4T"
      },
      "execution_count": null,
      "outputs": []
    },
    {
      "cell_type": "markdown",
      "source": [
        "**Calculating the confusion matrix**"
      ],
      "metadata": {
        "id": "F1bm3jPZSqxF"
      }
    },
    {
      "cell_type": "code",
      "source": [
        "def confusion_matrix(y_true, y_pred, num_classes):\n",
        "    \"\"\"Calculate the confusion matrix from scratch\"\"\"\n",
        "    matrix = np.zeros((num_classes, num_classes), dtype=int)\n",
        "\n",
        "    for true, pred in zip(y_true, y_pred):\n",
        "        matrix[true, pred] += 1\n",
        "\n",
        "    return matrix"
      ],
      "metadata": {
        "id": "QsiQCWe9YE7R"
      },
      "execution_count": null,
      "outputs": []
    },
    {
      "cell_type": "markdown",
      "source": [
        "**Calculating accuracy, precision, recall, and F1 score from the confusion matrix**"
      ],
      "metadata": {
        "id": "OOTo5zNrSuk_"
      }
    },
    {
      "cell_type": "code",
      "source": [
        "def calculate_metrics(conf_matrix):\n",
        "    \"\"\"Calculate accuracy, precision, recall, and F1 score from the confusion matrix\"\"\"\n",
        "    num_classes = conf_matrix.shape[0]\n",
        "\n",
        "    # Calculate Accuracy\n",
        "    accuracy = np.trace(conf_matrix) / np.sum(conf_matrix)\n",
        "\n",
        "    # Initialize precision, recall, and F1 score lists\n",
        "    precision = []\n",
        "    recall = []\n",
        "    f1_scores = []\n",
        "\n",
        "    # Calculate precision, recall, and F1 score for each class\n",
        "    for i in range(num_classes):\n",
        "        TP = conf_matrix[i, i]\n",
        "        FP = np.sum(conf_matrix[:, i]) - TP\n",
        "        FN = np.sum(conf_matrix[i, :]) - TP\n",
        "        TN = np.sum(conf_matrix) - (TP + FP + FN)\n",
        "\n",
        "        # Precision, Recall, F1 Score for class i\n",
        "        class_precision = TP / (TP + FP) if (TP + FP) != 0 else 0\n",
        "        class_recall = TP / (TP + FN) if (TP + FN) != 0 else 0\n",
        "        class_f1 = 2 * (class_precision * class_recall) / (class_precision + class_recall) if (class_precision + class_recall) != 0 else 0\n",
        "\n",
        "        precision.append(class_precision)\n",
        "        recall.append(class_recall)\n",
        "        f1_scores.append(class_f1)\n",
        "\n",
        "    return accuracy, precision, recall, f1_scores"
      ],
      "metadata": {
        "id": "6DPhpDsVYHEY"
      },
      "execution_count": null,
      "outputs": []
    },
    {
      "cell_type": "markdown",
      "source": [
        "**Comparing values from training and testing sets**"
      ],
      "metadata": {
        "id": "jaO5UYeESxDH"
      }
    },
    {
      "cell_type": "code",
      "source": [
        "# Get confusion matrix for train and test sets\n",
        "train_conf_matrix = confusion_matrix(y_train_labels, y_train_pred_labels, num_classes)\n",
        "test_conf_matrix = confusion_matrix(y_test_labels, y_test_pred_labels, num_classes)\n",
        "\n",
        "# Calculate metrics for train set\n",
        "train_accuracy, train_precision, train_recall, train_f1_scores = calculate_metrics(train_conf_matrix)\n",
        "\n",
        "# Calculate metrics for test set\n",
        "test_accuracy, test_precision, test_recall, test_f1_scores = calculate_metrics(test_conf_matrix)\n",
        "\n",
        "# Display the results\n",
        "print(\"\\n\\033[1mTRAINING PERFORMANCE\\033[0m\")\n",
        "print(\"-------------------------------------------------------------------------\")\n",
        "print(f\"Training Accuracy: {train_accuracy * 100:.2f}%\")\n",
        "print(f\"Training Precision: {train_precision}\")\n",
        "print(f\"Training Recall: {train_recall}\")\n",
        "print(f\"Training F1 Scores: {train_f1_scores}\")\n",
        "print(\"-------------------------------------------------------------------------\\n\")\n",
        "\n",
        "print(\"\\033[1mTESTING PERFORMANCE\\033[0m\")\n",
        "print(\"--------------------------------------------------------------------------------------------------\")\n",
        "print(f\"Test Accuracy: {test_accuracy * 100:.2f}%\")\n",
        "print(f\"Test Precision: {test_precision}\")\n",
        "print(f\"Test Recall: {test_recall}\")\n",
        "print(f\"Test F1 Scores: {test_f1_scores}\")\n",
        "print(\"--------------------------------------------------------------------------------------------------\\n\")"
      ],
      "metadata": {
        "colab": {
          "base_uri": "https://localhost:8080/"
        },
        "id": "WJ-H1uXBYH3i",
        "outputId": "fcd5a1e7-e515-4ead-bae7-0368d2380e95"
      },
      "execution_count": null,
      "outputs": [
        {
          "output_type": "stream",
          "name": "stdout",
          "text": [
            "\n",
            "\u001b[1mTRAINING PERFORMANCE\u001b[0m\n",
            "-------------------------------------------------------------------------\n",
            "Training Accuracy: 100.00%\n",
            "Training Precision: [1.0, 1.0, 1.0, 1.0, 1.0, 1.0, 1.0, 1.0, 1.0, 1.0]\n",
            "Training Recall: [1.0, 1.0, 1.0, 1.0, 1.0, 1.0, 1.0, 1.0, 1.0, 1.0]\n",
            "Training F1 Scores: [1.0, 1.0, 1.0, 1.0, 1.0, 1.0, 1.0, 1.0, 1.0, 1.0]\n",
            "-------------------------------------------------------------------------\n",
            "\n",
            "\u001b[1mTESTING PERFORMANCE\u001b[0m\n",
            "--------------------------------------------------------------------------------------------------\n",
            "Test Accuracy: 99.67%\n",
            "Test Precision: [1.0, 1.0, 0.9736842105263158, 1.0, 1.0, 1.0, 1.0, 1.0, 1.0, 1.0]\n",
            "Test Recall: [1.0, 1.0, 1.0, 1.0, 1.0, 1.0, 1.0, 0.9565217391304348, 1.0, 1.0]\n",
            "Test F1 Scores: [1.0, 1.0, 0.9866666666666666, 1.0, 1.0, 1.0, 1.0, 0.9777777777777777, 1.0, 1.0]\n",
            "--------------------------------------------------------------------------------------------------\n",
            "\n"
          ]
        }
      ]
    },
    {
      "cell_type": "markdown",
      "source": [
        "**Comparing the testing and training's actual and predicted values**"
      ],
      "metadata": {
        "id": "Q9qhvCztSzRk"
      }
    },
    {
      "cell_type": "code",
      "source": [
        "# Class labels mapping based on your encoding\n",
        "class_labels_mapping = {\n",
        "    0: 'apple',\n",
        "    1: 'banana',\n",
        "    2: 'coconut',\n",
        "    3: 'grapes',\n",
        "    4: 'mango',\n",
        "    5: 'muskmelon',\n",
        "    6: 'orange',\n",
        "    7: 'papaya',\n",
        "    8: 'pomegranate',\n",
        "    9: 'watermelon'\n",
        "}\n",
        "# Print meaning of 0, 1, 2, 3\n",
        "print(\"\\033[1mClass Label Meanings:\\033[0m\")\n",
        "print(\"---------------------\")\n",
        "for label, meaning in class_labels_mapping.items():\n",
        "    print(f\"{label}: {meaning}\")\n",
        "\n",
        "print()\n",
        "# Print first 10 actual vs predicted values for training set\n",
        "print(\"\\n\\033[1mTraining Set Predictions (first 10 rows):\\033[0m\")\n",
        "print(\"------------------------------------\")\n",
        "for actual, predicted in zip(y_train_labels[:10], y_train_pred_labels[:10]):\n",
        "    print(f\"Actual: {actual} ->\\t\\tPredicted: {predicted}\")\n",
        "print(\"------------------------------------\\n\")\n",
        "\n",
        "# Check class distribution\n",
        "print(\"\\033[1mClass distribution in y_train:\\033[0m\")\n",
        "unique, counts = np.unique(y_train, return_counts=True)\n",
        "print(dict(zip(unique, counts)))\n",
        "print()\n",
        "\n",
        "# Print first 10 actual vs predicted values for test set\n",
        "print(\"\\n\\033[1mTest Set Predictions (first 10 rows):\\033[0m\")\n",
        "print(\"------------------------------------\")\n",
        "for actual, predicted in zip(y_test_labels[:10], y_test_pred_labels[:10]):\n",
        "    print(f\"Actual: {actual} ->\\t\\tPredicted: {predicted}\")\n",
        "print(\"------------------------------------\\n\")\n",
        "\n",
        "# Check class distribution\n",
        "print(\"\\033[1mClass distribution in y_test:\\033[0m\")\n",
        "unique, counts = np.unique(y_test, return_counts=True)\n",
        "print(dict(zip(unique, counts)))"
      ],
      "metadata": {
        "colab": {
          "base_uri": "https://localhost:8080/"
        },
        "id": "wFy1sX2ZYVSw",
        "outputId": "f946b7d0-efc7-4978-e020-6f0af7c84aea"
      },
      "execution_count": null,
      "outputs": [
        {
          "output_type": "stream",
          "name": "stdout",
          "text": [
            "\u001b[1mClass Label Meanings:\u001b[0m\n",
            "---------------------\n",
            "0: apple\n",
            "1: banana\n",
            "2: coconut\n",
            "3: grapes\n",
            "4: mango\n",
            "5: muskmelon\n",
            "6: orange\n",
            "7: papaya\n",
            "8: pomegranate\n",
            "9: watermelon\n",
            "\n",
            "\n",
            "\u001b[1mTraining Set Predictions (first 10 rows):\u001b[0m\n",
            "------------------------------------\n",
            "Actual: 5 ->\t\tPredicted: 5\n",
            "Actual: 4 ->\t\tPredicted: 4\n",
            "Actual: 4 ->\t\tPredicted: 4\n",
            "Actual: 4 ->\t\tPredicted: 4\n",
            "Actual: 7 ->\t\tPredicted: 7\n",
            "Actual: 9 ->\t\tPredicted: 9\n",
            "Actual: 3 ->\t\tPredicted: 3\n",
            "Actual: 5 ->\t\tPredicted: 5\n",
            "Actual: 9 ->\t\tPredicted: 9\n",
            "Actual: 5 ->\t\tPredicted: 5\n",
            "------------------------------------\n",
            "\n",
            "\u001b[1mClass distribution in y_train:\u001b[0m\n",
            "{0: 65, 1: 80, 2: 63, 3: 66, 4: 76, 5: 67, 6: 70, 7: 77, 8: 71, 9: 65}\n",
            "\n",
            "\n",
            "\u001b[1mTest Set Predictions (first 10 rows):\u001b[0m\n",
            "------------------------------------\n",
            "Actual: 5 ->\t\tPredicted: 5\n",
            "Actual: 7 ->\t\tPredicted: 7\n",
            "Actual: 7 ->\t\tPredicted: 7\n",
            "Actual: 6 ->\t\tPredicted: 6\n",
            "Actual: 4 ->\t\tPredicted: 4\n",
            "Actual: 6 ->\t\tPredicted: 6\n",
            "Actual: 6 ->\t\tPredicted: 6\n",
            "Actual: 5 ->\t\tPredicted: 5\n",
            "Actual: 8 ->\t\tPredicted: 8\n",
            "Actual: 1 ->\t\tPredicted: 1\n",
            "------------------------------------\n",
            "\n",
            "\u001b[1mClass distribution in y_test:\u001b[0m\n",
            "{0: 35, 1: 20, 2: 37, 3: 34, 4: 24, 5: 33, 6: 30, 7: 23, 8: 29, 9: 35}\n"
          ]
        }
      ]
    },
    {
      "cell_type": "markdown",
      "source": [
        "# **Building Primary models for Classification using SciKit Learn**"
      ],
      "metadata": {
        "id": "tmQ4NkHYS_8a"
      }
    },
    {
      "cell_type": "markdown",
      "source": [
        "# **Decision Tree**\n",
        "\n"
      ],
      "metadata": {
        "id": "N5D764mTTDkW"
      }
    },
    {
      "cell_type": "markdown",
      "source": [
        "**Step 1: BUILD MODEL**"
      ],
      "metadata": {
        "id": "SDnKCAliTLnn"
      }
    },
    {
      "cell_type": "code",
      "source": [
        "from sklearn.tree import DecisionTreeClassifier\n",
        "from sklearn.metrics import accuracy_score, classification_report\n",
        "\n",
        "# Initialize Decision Tree Classifier\n",
        "dt_model = DecisionTreeClassifier(random_state=42)\n",
        "\n",
        "# Train the model\n",
        "dt_model.fit(X_train, y_train)\n",
        "\n",
        "# Predict on test data\n",
        "dt_y_pred = dt_model.predict(X_test)"
      ],
      "metadata": {
        "id": "kOId9diSYd4Q"
      },
      "execution_count": null,
      "outputs": []
    },
    {
      "cell_type": "markdown",
      "source": [
        "**Step 2: EVALUTE THE MODEL WITH**\n",
        "\n",
        "1.   Accuracy\n",
        "2.   Classification Report containing\n",
        "\n",
        "  *   Precision\n",
        "  *   Recall\n",
        "  *   f1-score\n",
        "  *   support\n",
        "\n",
        "\n",
        "\n"
      ],
      "metadata": {
        "id": "XCqHNzVGTYEV"
      }
    },
    {
      "cell_type": "code",
      "source": [
        "# Evaluate the model\n",
        "# Evaluate the model\n",
        "print(\"\\n\\t  \\033[1mDecision Tree Classifier Performance\\033[0m\")\n",
        "print(\"---------------------------------------------------------\")\n",
        "print(\"Accuracy:\", accuracy_score(y_test, dt_y_pred))\n",
        "print(\"Classification Report:\\n\", classification_report(y_test, dt_y_pred))\n",
        "\n",
        "print(\"---------------------------------------------------------\\n\")\n",
        "\n"
      ],
      "metadata": {
        "colab": {
          "base_uri": "https://localhost:8080/"
        },
        "id": "0BskwMQLT6uo",
        "outputId": "e40edbb4-20d7-479c-a687-9b234a8b8762"
      },
      "execution_count": null,
      "outputs": [
        {
          "output_type": "stream",
          "name": "stdout",
          "text": [
            "\n",
            "\t  \u001b[1mDecision Tree Classifier Performance\u001b[0m\n",
            "---------------------------------------------------------\n",
            "Accuracy: 0.99\n",
            "Classification Report:\n",
            "               precision    recall  f1-score   support\n",
            "\n",
            "           0       0.97      1.00      0.99        35\n",
            "           1       1.00      1.00      1.00        20\n",
            "           2       1.00      1.00      1.00        37\n",
            "           3       1.00      1.00      1.00        34\n",
            "           4       1.00      1.00      1.00        24\n",
            "           5       1.00      0.94      0.97        33\n",
            "           6       1.00      1.00      1.00        30\n",
            "           7       1.00      0.96      0.98        23\n",
            "           8       1.00      1.00      1.00        29\n",
            "           9       0.95      1.00      0.97        35\n",
            "\n",
            "    accuracy                           0.99       300\n",
            "   macro avg       0.99      0.99      0.99       300\n",
            "weighted avg       0.99      0.99      0.99       300\n",
            "\n",
            "---------------------------------------------------------\n",
            "\n"
          ]
        }
      ]
    },
    {
      "cell_type": "markdown",
      "source": [
        "Comparing the testing and training's actual and prediction values (y)"
      ],
      "metadata": {
        "id": "RfPlJQtrUGlt"
      }
    },
    {
      "cell_type": "code",
      "source": [
        "class_labels_mapping = {\n",
        "    0: 'apple',\n",
        "    1: 'banana',\n",
        "    2: 'coconut',\n",
        "    3: 'grapes',\n",
        "    4: 'mango',\n",
        "    5: 'muskmelon',\n",
        "    6: 'orange',\n",
        "    7: 'papaya',\n",
        "    8: 'pomegranate',\n",
        "    9: 'watermelon'\n",
        "}\n",
        "\n",
        "# Decision Tree - Training Set Predictions (first 10 rows)\n",
        "print(\"\\n\\033[1mDecision Tree - Training Set Predictions (first 10 rows):\\033[0m\")\n",
        "print(\"---------------------------------------------------------\")\n",
        "for actual, predicted in zip(y_train[:10], dt_model.predict(X_train)[:10]):\n",
        "    print(f\"Actual: {class_labels_mapping[actual]}-> \\t\\tPredicted: {class_labels_mapping[predicted]}\")\n",
        "print(\"---------------------------------------------------------\")\n",
        "\n",
        "# Class distribution in training set for Decision Tree\n",
        "print(\"\\n\\033[1mClass distribution in y_train (Decision Tree):\\033[0m\")\n",
        "unique, counts = np.unique(y_train, return_counts=True)\n",
        "print(dict(zip(unique, counts)))\n",
        "print()\n",
        "\n",
        "# Decision Tree - Test Set Predictions (first 10 rows)\n",
        "print(\"\\n\\033[1mDecision Tree - Test Set Predictions (first 10 rows):\\033[0m\")\n",
        "print(\"---------------------------------------------------------\")\n",
        "for actual, predicted in zip(y_test[:10], dt_y_pred[:10]):\n",
        "    print(f\"Actual: {class_labels_mapping[actual]}-> \\t\\tPredicted: {class_labels_mapping[predicted]}\")\n",
        "print(\"---------------------------------------------------------\")\n",
        "\n",
        "# Class distribution in test set for Decision Tree\n",
        "print(\"\\n\\033[1mClass distribution in y_test (Decision Tree):\\033[0m\")\n",
        "unique, counts = np.unique(y_test, return_counts=True)\n",
        "print(dict(zip(unique, counts)))\n"
      ],
      "metadata": {
        "colab": {
          "base_uri": "https://localhost:8080/"
        },
        "id": "oH1feVPIk_9d",
        "outputId": "b68eff8c-f758-470e-ba76-664fbb0528fa"
      },
      "execution_count": null,
      "outputs": [
        {
          "output_type": "stream",
          "name": "stdout",
          "text": [
            "\n",
            "\u001b[1mDecision Tree - Training Set Predictions (first 10 rows):\u001b[0m\n",
            "---------------------------------------------------------\n",
            "Actual: muskmelon-> \t\tPredicted: muskmelon\n",
            "Actual: mango-> \t\tPredicted: mango\n",
            "Actual: mango-> \t\tPredicted: mango\n",
            "Actual: mango-> \t\tPredicted: mango\n",
            "Actual: papaya-> \t\tPredicted: papaya\n",
            "Actual: watermelon-> \t\tPredicted: watermelon\n",
            "Actual: grapes-> \t\tPredicted: grapes\n",
            "Actual: muskmelon-> \t\tPredicted: muskmelon\n",
            "Actual: watermelon-> \t\tPredicted: watermelon\n",
            "Actual: muskmelon-> \t\tPredicted: muskmelon\n",
            "---------------------------------------------------------\n",
            "\n",
            "\u001b[1mClass distribution in y_train (Decision Tree):\u001b[0m\n",
            "{0: 65, 1: 80, 2: 63, 3: 66, 4: 76, 5: 67, 6: 70, 7: 77, 8: 71, 9: 65}\n",
            "\n",
            "\n",
            "\u001b[1mDecision Tree - Test Set Predictions (first 10 rows):\u001b[0m\n",
            "---------------------------------------------------------\n",
            "Actual: muskmelon-> \t\tPredicted: muskmelon\n",
            "Actual: papaya-> \t\tPredicted: papaya\n",
            "Actual: papaya-> \t\tPredicted: papaya\n",
            "Actual: orange-> \t\tPredicted: orange\n",
            "Actual: mango-> \t\tPredicted: mango\n",
            "Actual: orange-> \t\tPredicted: orange\n",
            "Actual: orange-> \t\tPredicted: orange\n",
            "Actual: muskmelon-> \t\tPredicted: muskmelon\n",
            "Actual: pomegranate-> \t\tPredicted: pomegranate\n",
            "Actual: banana-> \t\tPredicted: banana\n",
            "---------------------------------------------------------\n",
            "\n",
            "\u001b[1mClass distribution in y_test (Decision Tree):\u001b[0m\n",
            "{0: 35, 1: 20, 2: 37, 3: 34, 4: 24, 5: 33, 6: 30, 7: 23, 8: 29, 9: 35}\n"
          ]
        }
      ]
    },
    {
      "cell_type": "markdown",
      "source": [
        "**Step 3: Hyper-parameter Optimization with Cross-Validation**"
      ],
      "metadata": {
        "id": "3jOzfYzaUJxa"
      }
    },
    {
      "cell_type": "code",
      "source": [
        "from sklearn.model_selection import RandomizedSearchCV\n",
        "from scipy.stats import uniform, randint"
      ],
      "metadata": {
        "id": "NnBj57Soq-Ed"
      },
      "execution_count": null,
      "outputs": []
    },
    {
      "cell_type": "code",
      "source": [
        "# HYPER PARAMTER OPTIMIZATION WITH CROSS_VALIDATION\n",
        "# Define the model\n",
        "dt = DecisionTreeClassifier()\n",
        "\n",
        "# Define the hyperparameters to tune\n",
        "param_dist_dt = {\n",
        "    'criterion': ['gini', 'entropy'],\n",
        "    'max_depth': [None, 10, 20, 30, 40, 50],\n",
        "    'min_samples_split': [2, 5, 10, 15, 20],\n",
        "    'min_samples_leaf': [1, 2, 4, 6, 8],\n",
        "    'max_features': [None, 'sqrt', 'log2'],\n",
        "}\n",
        "\n",
        "# Initialize RandomizedSearchCV\n",
        "random_search_dt = RandomizedSearchCV(estimator=dt, param_distributions=param_dist_dt, n_iter=50, cv=5, n_jobs=-1, verbose=2)\n",
        "\n",
        "# Fit the random search\n",
        "random_search_dt.fit(X_train, y_train)\n",
        "\n",
        "# Find the best hyperparameters\n",
        "print(\"Best Hyperparameters for Decision Tree:\", random_search_dt.best_params_)"
      ],
      "metadata": {
        "colab": {
          "base_uri": "https://localhost:8080/"
        },
        "id": "_g_RQLpMwUqS",
        "outputId": "ab7ca807-d8d3-4aab-c7dc-ea27af648f9e"
      },
      "execution_count": null,
      "outputs": [
        {
          "output_type": "stream",
          "name": "stdout",
          "text": [
            "Fitting 5 folds for each of 50 candidates, totalling 250 fits\n",
            "Best Hyperparameters for Decision Tree: {'min_samples_split': 2, 'min_samples_leaf': 8, 'max_features': None, 'max_depth': 10, 'criterion': 'gini'}\n"
          ]
        }
      ]
    },
    {
      "cell_type": "markdown",
      "source": [
        "**Step 4: Feature Selection**"
      ],
      "metadata": {
        "id": "JY_9POXFUSng"
      }
    },
    {
      "cell_type": "code",
      "source": [
        "# FEATURE SELECTION\n",
        "from sklearn.feature_selection import mutual_info_classif\n",
        "from sklearn.preprocessing import StandardScaler\n",
        "\n",
        "# Standardizing the features (recommended for mutual information)\n",
        "scaler = StandardScaler()\n",
        "X_scaled = scaler.fit_transform(X)\n",
        "\n",
        "# Apply mutual information for feature selection\n",
        "mi_scores = mutual_info_classif(X_scaled, y, discrete_features=False)\n",
        "\n",
        "# Create a DataFrame to display feature importance\n",
        "mi_scores_df = pd.DataFrame({'Feature': features, 'Mutual Information Score': mi_scores})\n",
        "mi_scores_df = mi_scores_df.sort_values(by=\"Mutual Information Score\", ascending=False)\n",
        "\n",
        "# Display top features\n",
        "print(\"\\n\\033[1mTop Features based on Mutual Information:\\033[0m\")\n",
        "print(mi_scores_df)"
      ],
      "metadata": {
        "colab": {
          "base_uri": "https://localhost:8080/"
        },
        "id": "KZHe_t1NwoEN",
        "outputId": "19a25daa-0b6e-427f-d015-b77cfad0622a"
      },
      "execution_count": null,
      "outputs": [
        {
          "output_type": "stream",
          "name": "stdout",
          "text": [
            "\n",
            "\u001b[1mTop Features based on Mutual Information:\u001b[0m\n",
            "       Feature  Mutual Information Score\n",
            "6     rainfall                  1.563317\n",
            "2            K                  1.405166\n",
            "1            P                  1.165160\n",
            "4     humidity                  1.152027\n",
            "3  temperature                  1.012077\n",
            "0            N                  0.764817\n",
            "5           ph                  0.584391\n"
          ]
        }
      ]
    },
    {
      "cell_type": "code",
      "source": [
        "# Selecting the top features based on MI scores\n",
        "selected_features = [\n",
        "    'rainfall', 'K', 'P',\n",
        "]\n",
        "# 'N', 'humidity', 'ph', 'temperature'\n",
        "\n",
        "# Prepare the feature matrix with selected features\n",
        "X_selected = fruit_recommendation_df[selected_features].values\n",
        "\n",
        "# Split dataset into training (80%) and testing (20%)\n",
        "X_train, X_test, y_train, y_test = train_test_split(X_selected, y, test_size=0.2, random_state=42)"
      ],
      "metadata": {
        "id": "9X-EfJBlwrKm"
      },
      "execution_count": null,
      "outputs": []
    },
    {
      "cell_type": "markdown",
      "source": [
        "**Step 5: Final Model with selected Features and best Hyperparameters**\n",
        "### Final Decision Tree Model\n"
      ],
      "metadata": {
        "id": "PtBvS8HWUhvZ"
      }
    },
    {
      "cell_type": "code",
      "source": [
        "# Training the Final Decision Tree Model\n",
        "dt_model = DecisionTreeClassifier(\n",
        "    criterion='entropy', max_depth=40, max_features=None,\n",
        "    min_samples_split=2, min_samples_leaf=1, random_state=42\n",
        ")\n",
        "dt_model.fit(X_train, y_train)  # Fit the model with the training data\n",
        "\n",
        "# Testing the Decision Tree Model\n",
        "y_pred_dt = dt_model.predict(X_test)  # Predict on the test data\n",
        "\n",
        "# Evaluating the Decision Tree Model\n",
        "print(\"\\n\\t  \\033[1mDecision Tree Final Model Results:\\033[0m\")\n",
        "print(\"---------------------------------------------------------\")\n",
        "print(\"Accuracy:\", accuracy_score(y_test, y_pred_dt))  # Accuracy score on test set\n",
        "print(\"Classification Report:\\n\", classification_report(y_test, y_pred_dt))  # Detailed metrics\n",
        "print(\"----------------------------------------------------------\\n\")\n",
        "\n",
        "# Print first 10 actual vs predicted values for training set\n",
        "print(\"\\n\\033[1mDecision Tree - Training Set Predictions (first 10 rows):\\033[0m\")\n",
        "print(\"---------------------------------------------------------\")\n",
        "for actual, predicted in zip(y_train[:10], dt_model.predict(X_train)[:10]):\n",
        "    print(f\"Actual: {class_labels_mapping[actual]}-> \\t\\tPredicted: {class_labels_mapping[predicted]}\")\n",
        "print(\"---------------------------------------------------------\")\n",
        "\n",
        "# Check class distribution in training set\n",
        "print(\"\\n\\033[1mClass distribution in y_train (Decision Tree):\\033[0m\")\n",
        "unique, counts = np.unique(y_train, return_counts=True)\n",
        "print(dict(zip(unique, counts)))\n",
        "print()\n",
        "\n",
        "\n",
        "# Print first 10 actual vs predicted values for test set\n",
        "print(\"\\n\\033[1mDecision Tree - Test Set Predictions (first 10 rows):\\033[0m\")\n",
        "print(\"---------------------------------------------------------\")\n",
        "for actual, predicted in zip(y_test[:10], y_pred_dt[:10]):\n",
        "    print(f\"Actual: {class_labels_mapping[actual]}-> \\t\\tPredicted: {class_labels_mapping[predicted]}\")\n",
        "print(\"---------------------------------------------------------\")\n",
        "\n",
        "# Check class distribution in test set\n",
        "print(\"\\n\\033[1mClass distribution in y_test (Decision Tree):\\033[0m\")\n",
        "unique, counts = np.unique(y_test, return_counts=True)\n",
        "print(dict(zip(unique, counts)))\n"
      ],
      "metadata": {
        "colab": {
          "base_uri": "https://localhost:8080/"
        },
        "id": "RnNRRIrDx-fY",
        "outputId": "1a050803-07fb-4a31-9a67-a52896b431d1"
      },
      "execution_count": null,
      "outputs": [
        {
          "output_type": "stream",
          "name": "stdout",
          "text": [
            "\n",
            "\t  \u001b[1mDecision Tree Final Model Results:\u001b[0m\n",
            "---------------------------------------------------------\n",
            "Accuracy: 0.985\n",
            "Classification Report:\n",
            "               precision    recall  f1-score   support\n",
            "\n",
            "           0       1.00      1.00      1.00        20\n",
            "           1       1.00      1.00      1.00        13\n",
            "           2       1.00      1.00      1.00        27\n",
            "           3       1.00      1.00      1.00        21\n",
            "           4       1.00      0.80      0.89        15\n",
            "           5       1.00      1.00      1.00        22\n",
            "           6       1.00      1.00      1.00        25\n",
            "           7       1.00      1.00      1.00        13\n",
            "           8       0.88      1.00      0.94        23\n",
            "           9       1.00      1.00      1.00        21\n",
            "\n",
            "    accuracy                           0.98       200\n",
            "   macro avg       0.99      0.98      0.98       200\n",
            "weighted avg       0.99      0.98      0.98       200\n",
            "\n",
            "----------------------------------------------------------\n",
            "\n",
            "\n",
            "\u001b[1mDecision Tree - Training Set Predictions (first 10 rows):\u001b[0m\n",
            "---------------------------------------------------------\n",
            "Actual: apple-> \t\tPredicted: apple\n",
            "Actual: muskmelon-> \t\tPredicted: muskmelon\n",
            "Actual: orange-> \t\tPredicted: orange\n",
            "Actual: muskmelon-> \t\tPredicted: muskmelon\n",
            "Actual: pomegranate-> \t\tPredicted: pomegranate\n",
            "Actual: muskmelon-> \t\tPredicted: muskmelon\n",
            "Actual: banana-> \t\tPredicted: banana\n",
            "Actual: watermelon-> \t\tPredicted: watermelon\n",
            "Actual: mango-> \t\tPredicted: mango\n",
            "Actual: pomegranate-> \t\tPredicted: pomegranate\n",
            "---------------------------------------------------------\n",
            "\n",
            "\u001b[1mClass distribution in y_train (Decision Tree):\u001b[0m\n",
            "{0: 80, 1: 87, 2: 73, 3: 79, 4: 85, 5: 78, 6: 75, 7: 87, 8: 77, 9: 79}\n",
            "\n",
            "\n",
            "\u001b[1mDecision Tree - Test Set Predictions (first 10 rows):\u001b[0m\n",
            "---------------------------------------------------------\n",
            "Actual: muskmelon-> \t\tPredicted: muskmelon\n",
            "Actual: papaya-> \t\tPredicted: papaya\n",
            "Actual: papaya-> \t\tPredicted: papaya\n",
            "Actual: orange-> \t\tPredicted: orange\n",
            "Actual: mango-> \t\tPredicted: mango\n",
            "Actual: orange-> \t\tPredicted: orange\n",
            "Actual: orange-> \t\tPredicted: orange\n",
            "Actual: muskmelon-> \t\tPredicted: muskmelon\n",
            "Actual: pomegranate-> \t\tPredicted: pomegranate\n",
            "Actual: banana-> \t\tPredicted: banana\n",
            "---------------------------------------------------------\n",
            "\n",
            "\u001b[1mClass distribution in y_test (Decision Tree):\u001b[0m\n",
            "{0: 20, 1: 13, 2: 27, 3: 21, 4: 15, 5: 22, 6: 25, 7: 13, 8: 23, 9: 21}\n"
          ]
        }
      ]
    },
    {
      "cell_type": "markdown",
      "source": [
        "# **SVC Model**\n"
      ],
      "metadata": {
        "id": "JnSuIA71U8zt"
      }
    },
    {
      "cell_type": "markdown",
      "source": [
        "**Step 1: Build Models**"
      ],
      "metadata": {
        "id": "DHYAHRlBVF-j"
      }
    },
    {
      "cell_type": "code",
      "source": [
        "from sklearn.svm import SVC\n",
        "from sklearn.metrics import accuracy_score, classification_report\n",
        "\n",
        "# Initialize Support Vector Classifier (svc)\n",
        "svc_model = SVC(random_state=42)\n",
        "\n",
        "# Train the model\n",
        "svc_model.fit(X_train, y_train)\n",
        "\n",
        "# Predict on test data\n",
        "svc_y_pred = svc_model.predict(X_test)"
      ],
      "metadata": {
        "id": "RRorDEeJy8Gm"
      },
      "execution_count": null,
      "outputs": []
    },
    {
      "cell_type": "markdown",
      "source": [
        "**Step 2: Evaluate the Models with:**\n",
        "\n",
        "1.   Accuracy\n",
        "2.   Classification Report containing\n",
        "\n",
        "  *   Precision\n",
        "  *   Recall\n",
        "  *   f1-score\n",
        "  *   support\n",
        "\n",
        "\n",
        "\n"
      ],
      "metadata": {
        "id": "NFcxXdgUVNzz"
      }
    },
    {
      "cell_type": "code",
      "source": [
        "# Evaluate the model\n",
        "print(\"\\n\\033[1mSVC Classifier Performance:\\033[0m\")\n",
        "print(\"---------------------------------------------------------\")\n",
        "print(\"Accuracy:\", accuracy_score(y_test, svc_y_pred))\n",
        "print(\"Classification Report:\\n\", classification_report(y_test, svc_y_pred))\n",
        "print(\"---------------------------------------------------------\\n\")\n"
      ],
      "metadata": {
        "colab": {
          "base_uri": "https://localhost:8080/"
        },
        "id": "dbThgpnBVOFn",
        "outputId": "d8e41249-493b-430e-8a6b-20d71d383d40"
      },
      "execution_count": null,
      "outputs": [
        {
          "output_type": "stream",
          "name": "stdout",
          "text": [
            "\n",
            "\u001b[1mSVC Classifier Performance:\u001b[0m\n",
            "---------------------------------------------------------\n",
            "Accuracy: 1.0\n",
            "Classification Report:\n",
            "               precision    recall  f1-score   support\n",
            "\n",
            "           0       1.00      1.00      1.00        20\n",
            "           1       1.00      1.00      1.00        13\n",
            "           2       1.00      1.00      1.00        27\n",
            "           3       1.00      1.00      1.00        21\n",
            "           4       1.00      1.00      1.00        15\n",
            "           5       1.00      1.00      1.00        22\n",
            "           6       1.00      1.00      1.00        25\n",
            "           7       1.00      1.00      1.00        13\n",
            "           8       1.00      1.00      1.00        23\n",
            "           9       1.00      1.00      1.00        21\n",
            "\n",
            "    accuracy                           1.00       200\n",
            "   macro avg       1.00      1.00      1.00       200\n",
            "weighted avg       1.00      1.00      1.00       200\n",
            "\n",
            "---------------------------------------------------------\n",
            "\n"
          ]
        }
      ]
    },
    {
      "cell_type": "markdown",
      "source": [
        "Comparing the testing and training's actual and prediction values (y)"
      ],
      "metadata": {
        "id": "ANqr5etgVYcL"
      }
    },
    {
      "cell_type": "code",
      "source": [
        "class_labels_mapping = {\n",
        "    0: 'apple',\n",
        "    1: 'banana',\n",
        "    2: 'coconut',\n",
        "    3: 'grapes',\n",
        "    4: 'mango',\n",
        "    5: 'muskmelon',\n",
        "    6: 'orange',\n",
        "    7: 'papaya',\n",
        "    8: 'pomegranate',\n",
        "    9: 'watermelon'\n",
        "}\n",
        "\n",
        "# SVC - Training Set Predictions (first 10 rows)\n",
        "print(\"\\n\\t\\033[1mSVC - Training Set Predictions (first 10 rows):\\033[0m\")\n",
        "print(\"--------------------------------------------------------------\")\n",
        "for actual, predicted in zip(y_train[:10], svc_model.predict(X_train)[:10]):\n",
        "    print(f\"Actual: {class_labels_mapping[actual]}-> \\t\\tPredicted: {class_labels_mapping[predicted]}\")\n",
        "print(\"--------------------------------------------------------------\\n\")\n",
        "\n",
        "# Class distribution in training set for SVC\n",
        "print(\"\\033[1mClass distribution in y_train (SVC):\\033[0m\")\n",
        "unique, counts = np.unique(y_train, return_counts=True)\n",
        "print(dict(zip(unique, counts)))\n",
        "print('\\n')\n",
        "\n",
        "# SVC - Test Set Predictions (first 10 rows)\n",
        "print(\"\\n\\t\\033[1mSVC - Test Set Predictions (first 10 rows):\\033[0m\")\n",
        "print(\"--------------------------------------------------------------\")\n",
        "for actual, predicted in zip(y_test[:10], svc_y_pred[:10]):\n",
        "    print(f\"Actual: {class_labels_mapping[actual]}-> \\t\\tPredicted: {class_labels_mapping[predicted]}\")\n",
        "print(\"--------------------------------------------------------------\\n\")\n",
        "\n",
        "# Class distribution in test set for SVC\n",
        "print(\"\\033[1mClass distribution in y_test (SVC):\\033[0m\")\n",
        "unique, counts = np.unique(y_test, return_counts=True)\n",
        "print(dict(zip(unique, counts)))\n",
        "\n",
        "\n"
      ],
      "metadata": {
        "colab": {
          "base_uri": "https://localhost:8080/"
        },
        "id": "PzOmJNJc3Xgf",
        "outputId": "9594e094-f546-4ceb-eb2e-e3a76ffe237a"
      },
      "execution_count": null,
      "outputs": [
        {
          "output_type": "stream",
          "name": "stdout",
          "text": [
            "\n",
            "\t\u001b[1mSVC - Training Set Predictions (first 10 rows):\u001b[0m\n",
            "--------------------------------------------------------------\n",
            "Actual: apple-> \t\tPredicted: apple\n",
            "Actual: muskmelon-> \t\tPredicted: muskmelon\n",
            "Actual: orange-> \t\tPredicted: orange\n",
            "Actual: muskmelon-> \t\tPredicted: muskmelon\n",
            "Actual: pomegranate-> \t\tPredicted: pomegranate\n",
            "Actual: muskmelon-> \t\tPredicted: muskmelon\n",
            "Actual: banana-> \t\tPredicted: banana\n",
            "Actual: watermelon-> \t\tPredicted: watermelon\n",
            "Actual: mango-> \t\tPredicted: mango\n",
            "Actual: pomegranate-> \t\tPredicted: pomegranate\n",
            "--------------------------------------------------------------\n",
            "\n",
            "\u001b[1mClass distribution in y_train (SVC):\u001b[0m\n",
            "{0: 80, 1: 87, 2: 73, 3: 79, 4: 85, 5: 78, 6: 75, 7: 87, 8: 77, 9: 79}\n",
            "\n",
            "\n",
            "\n",
            "\t\u001b[1mSVC - Test Set Predictions (first 10 rows):\u001b[0m\n",
            "--------------------------------------------------------------\n",
            "Actual: muskmelon-> \t\tPredicted: muskmelon\n",
            "Actual: papaya-> \t\tPredicted: papaya\n",
            "Actual: papaya-> \t\tPredicted: papaya\n",
            "Actual: orange-> \t\tPredicted: orange\n",
            "Actual: mango-> \t\tPredicted: mango\n",
            "Actual: orange-> \t\tPredicted: orange\n",
            "Actual: orange-> \t\tPredicted: orange\n",
            "Actual: muskmelon-> \t\tPredicted: muskmelon\n",
            "Actual: pomegranate-> \t\tPredicted: pomegranate\n",
            "Actual: banana-> \t\tPredicted: banana\n",
            "--------------------------------------------------------------\n",
            "\n",
            "\u001b[1mClass distribution in y_test (SVC):\u001b[0m\n",
            "{0: 20, 1: 13, 2: 27, 3: 21, 4: 15, 5: 22, 6: 25, 7: 13, 8: 23, 9: 21}\n"
          ]
        }
      ]
    },
    {
      "cell_type": "markdown",
      "source": [
        "**Step 3: Hyper-parameter Optimization with Cross-Validation**"
      ],
      "metadata": {
        "id": "-hhhySfWVc-D"
      }
    },
    {
      "cell_type": "code",
      "source": [
        "from sklearn.svm import SVC\n",
        "from sklearn.model_selection import RandomizedSearchCV\n",
        "\n",
        "# Define the model\n",
        "svc = SVC()\n",
        "\n",
        "# Define the hyperparameters to tune\n",
        "param_dist_svc = {\n",
        "    'C': [0.1, 1, 10, 100, 1000],\n",
        "    'kernel': ['linear', 'poly', 'rbf', 'sigmoid'],\n",
        "    'degree': [2, 3, 4],\n",
        "    'gamma': ['scale', 'auto'],\n",
        "    'coef0': [0, 0.1, 0.5, 1],\n",
        "    'shrinking': [True, False],\n",
        "    'tol': [1e-3, 1e-4, 1e-5],\n",
        "    'class_weight': [None, 'balanced']\n",
        "}\n",
        "\n",
        "# Initialize RandomizedSearchCV\n",
        "random_search_svc = RandomizedSearchCV(estimator=svc, param_distributions=param_dist_svc, n_iter=50, cv=5, n_jobs=-1, verbose=2)\n",
        "\n",
        "# Fit the random search\n",
        "random_search_svc.fit(X_train, y_train)\n",
        "\n",
        "# Find the best hyperparameters\n",
        "print(\"Best Hyperparameters for svc:\", random_search_svc.best_params_)\n"
      ],
      "metadata": {
        "colab": {
          "base_uri": "https://localhost:8080/"
        },
        "id": "YIciRDyg3aL7",
        "outputId": "664b6b54-2a1f-49b3-be2d-c91ceca9c788"
      },
      "execution_count": null,
      "outputs": [
        {
          "output_type": "stream",
          "name": "stdout",
          "text": [
            "Fitting 5 folds for each of 50 candidates, totalling 250 fits\n",
            "Best Hyperparameters for svc: {'tol': 0.001, 'shrinking': True, 'kernel': 'rbf', 'gamma': 'scale', 'degree': 3, 'coef0': 0, 'class_weight': 'balanced', 'C': 100}\n"
          ]
        }
      ]
    },
    {
      "cell_type": "markdown",
      "source": [
        "**Step 4: Feature Selection**"
      ],
      "metadata": {
        "id": "Jh4yrTrpVg-b"
      }
    },
    {
      "cell_type": "code",
      "source": [
        "# FEATURE SELECTION\n",
        "from sklearn.feature_selection import mutual_info_classif\n",
        "from sklearn.preprocessing import StandardScaler\n",
        "\n",
        "# Standardizing the features (recommended for mutual information)\n",
        "scaler = StandardScaler()\n",
        "X_scaled = scaler.fit_transform(X)\n",
        "\n",
        "# Apply mutual information for feature selection\n",
        "mi_scores = mutual_info_classif(X_scaled, y, discrete_features=False)\n",
        "\n",
        "# Create a DataFrame to display feature importance\n",
        "mi_scores_df = pd.DataFrame({'Feature': features, 'Mutual Information Score': mi_scores})\n",
        "mi_scores_df = mi_scores_df.sort_values(by=\"Mutual Information Score\", ascending=False)\n",
        "\n",
        "# Display top features\n",
        "print(\"\\n\\033[1mTop Features based on Mutual Information:\\033[0m\")\n",
        "print(mi_scores_df)"
      ],
      "metadata": {
        "colab": {
          "base_uri": "https://localhost:8080/"
        },
        "id": "vgbTWvnKVhx9",
        "outputId": "9efe4b5b-dcdc-430b-c49e-7619201ce7dc"
      },
      "execution_count": null,
      "outputs": [
        {
          "output_type": "stream",
          "name": "stdout",
          "text": [
            "\n",
            "\u001b[1mTop Features based on Mutual Information:\u001b[0m\n",
            "       Feature  Mutual Information Score\n",
            "6     rainfall                  1.563317\n",
            "2            K                  1.427431\n",
            "1            P                  1.160067\n",
            "4     humidity                  1.152027\n",
            "3  temperature                  1.012077\n",
            "0            N                  0.753105\n",
            "5           ph                  0.584391\n"
          ]
        }
      ]
    },
    {
      "cell_type": "code",
      "source": [
        "# Selecting the top features based on MI scores\n",
        "selected_features = [\n",
        "    'rainfall', 'K', 'P'\n",
        "]\n",
        "\n",
        "# Prepare the feature matrix with selected features\n",
        "X_selected = fruit_recommendation_df[selected_features].values\n",
        "\n",
        "# Split dataset into training (80%) and testing (20%)\n",
        "X_train, X_test, y_train, y_test = train_test_split(X_selected, y, test_size=0.2, random_state=42)"
      ],
      "metadata": {
        "id": "otwvOcwxVvLu"
      },
      "execution_count": null,
      "outputs": []
    },
    {
      "cell_type": "markdown",
      "source": [
        "**Step 5: Final Model with selected Features and best Hyperparameters**\n",
        "### Final SVC Model"
      ],
      "metadata": {
        "id": "9Uf7n94fVpxC"
      }
    },
    {
      "cell_type": "code",
      "source": [
        "from sklearn.svm import SVC\n",
        "from sklearn.metrics import accuracy_score, classification_report\n",
        "\n",
        "# Initialize svc Model\n",
        "svc_model = SVC(kernel='rbf', C=1, gamma='scale', random_state=42)\n",
        "\n",
        "# Train the svc model\n",
        "svc_model.fit(X_train, y_train)  # Fit the model with the training data\n",
        "\n",
        "# Predict on the test data\n",
        "y_pred_svc = svc_model.predict(X_test)\n",
        "\n",
        "# Evaluating the SVC Model\n",
        "print(\"\\n\\t\\t\\033[1mSVC Final Model Results:\\033[0m\")\n",
        "print(\"--------------------------------------------------------\")\n",
        "print(\"Accuracy:\", accuracy_score(y_test, y_pred_svc))  # Accuracy score on test set\n",
        "print(\"Classification Report:\\n\", classification_report(y_test, y_pred_svc))  # Detailed metrics\n",
        "print(\"--------------------------------------------------------\\n\")\n",
        "\n",
        "# Print first 10 actual vs predicted values for training set\n",
        "print(\"\\n\\t\\033[1mSVC - Training Set Predictions (first 10 rows):\\033[0m\")\n",
        "print(\"--------------------------------------------------------\")\n",
        "for actual, predicted in zip(y_train[:10], svc_model.predict(X_train)[:10]):\n",
        "    print(f\"Actual: {class_labels_mapping[actual]}-> \\t\\tPredicted: {class_labels_mapping[predicted]}\")\n",
        "print(\"--------------------------------------------------------\")\n",
        "\n",
        "# Check class distribution in training set\n",
        "print(\"\\033[1mClass distribution in y_train (SVC):\\033[0m\")\n",
        "unique, counts = np.unique(y_train, return_counts=True)\n",
        "print(dict(zip(unique, counts)))\n",
        "print()\n",
        "\n",
        "# Print first 10 actual vs predicted values for test set\n",
        "print(\"\\n\\t\\033[1mSVC - Test Set Predictions (first 10 rows):\\033[0m\")\n",
        "print(\"--------------------------------------------------------\")\n",
        "for actual, predicted in zip(y_test[:10], y_pred_svc[:10]):\n",
        "    print(f\"Actual: {class_labels_mapping[actual]}-> \\t\\tPredicted: {class_labels_mapping[predicted]}\")\n",
        "print(\"--------------------------------------------------------\")\n",
        "\n",
        "# Check class distribution in test set\n",
        "print(\"\\033[1mClass distribution in y_test (SVC):\\033[0m\")\n",
        "unique, counts = np.unique(y_test, return_counts=True)\n",
        "print(dict(zip(unique, counts)))\n",
        "\n",
        "\n"
      ],
      "metadata": {
        "colab": {
          "base_uri": "https://localhost:8080/"
        },
        "id": "HgLE6XnV3cvW",
        "outputId": "ac782322-6aa4-4402-ff32-a2a3f496935d"
      },
      "execution_count": null,
      "outputs": [
        {
          "output_type": "stream",
          "name": "stdout",
          "text": [
            "\n",
            "\t\t\u001b[1mSVC Final Model Results:\u001b[0m\n",
            "--------------------------------------------------------\n",
            "Accuracy: 1.0\n",
            "Classification Report:\n",
            "               precision    recall  f1-score   support\n",
            "\n",
            "           0       1.00      1.00      1.00        20\n",
            "           1       1.00      1.00      1.00        13\n",
            "           2       1.00      1.00      1.00        27\n",
            "           3       1.00      1.00      1.00        21\n",
            "           4       1.00      1.00      1.00        15\n",
            "           5       1.00      1.00      1.00        22\n",
            "           6       1.00      1.00      1.00        25\n",
            "           7       1.00      1.00      1.00        13\n",
            "           8       1.00      1.00      1.00        23\n",
            "           9       1.00      1.00      1.00        21\n",
            "\n",
            "    accuracy                           1.00       200\n",
            "   macro avg       1.00      1.00      1.00       200\n",
            "weighted avg       1.00      1.00      1.00       200\n",
            "\n",
            "--------------------------------------------------------\n",
            "\n",
            "\n",
            "\t\u001b[1mSVC - Training Set Predictions (first 10 rows):\u001b[0m\n",
            "--------------------------------------------------------\n",
            "Actual: apple-> \t\tPredicted: apple\n",
            "Actual: muskmelon-> \t\tPredicted: muskmelon\n",
            "Actual: orange-> \t\tPredicted: orange\n",
            "Actual: muskmelon-> \t\tPredicted: muskmelon\n",
            "Actual: pomegranate-> \t\tPredicted: pomegranate\n",
            "Actual: muskmelon-> \t\tPredicted: muskmelon\n",
            "Actual: banana-> \t\tPredicted: banana\n",
            "Actual: watermelon-> \t\tPredicted: watermelon\n",
            "Actual: mango-> \t\tPredicted: mango\n",
            "Actual: pomegranate-> \t\tPredicted: pomegranate\n",
            "--------------------------------------------------------\n",
            "\u001b[1mClass distribution in y_train (SVC):\u001b[0m\n",
            "{0: 80, 1: 87, 2: 73, 3: 79, 4: 85, 5: 78, 6: 75, 7: 87, 8: 77, 9: 79}\n",
            "\n",
            "\n",
            "\t\u001b[1mSVC - Test Set Predictions (first 10 rows):\u001b[0m\n",
            "--------------------------------------------------------\n",
            "Actual: muskmelon-> \t\tPredicted: muskmelon\n",
            "Actual: papaya-> \t\tPredicted: papaya\n",
            "Actual: papaya-> \t\tPredicted: papaya\n",
            "Actual: orange-> \t\tPredicted: orange\n",
            "Actual: mango-> \t\tPredicted: mango\n",
            "Actual: orange-> \t\tPredicted: orange\n",
            "Actual: orange-> \t\tPredicted: orange\n",
            "Actual: muskmelon-> \t\tPredicted: muskmelon\n",
            "Actual: pomegranate-> \t\tPredicted: pomegranate\n",
            "Actual: banana-> \t\tPredicted: banana\n",
            "--------------------------------------------------------\n",
            "\u001b[1mClass distribution in y_test (SVC):\u001b[0m\n",
            "{0: 20, 1: 13, 2: 27, 3: 21, 4: 15, 5: 22, 6: 25, 7: 13, 8: 23, 9: 21}\n"
          ]
        }
      ]
    },
    {
      "cell_type": "markdown",
      "source": [
        "**Conclusion**\n",
        "\n",
        "1. Model Performance:\n",
        "\n",
        "    --> The Decision Tree model has a high accuracy of 96.5% while the Naive Bayes model's accurcay reached 86%. This shows that the Decision Tree model performed better in accuracy and has a great recall for the Unhealthy class (3) but a low recall for the Very Healthy class (0) compared to Naive Bayes.\n",
        "\n",
        "2. Impact of Methods:\n",
        "\n",
        "    --> 'mutual_info_classif' method was used for feature selection which identified features like 'Fire Risk Index', 'Disturbance level', and 2 more are the features which influences the target variable more. The best hyperparameters for Decision Tree ('max_depth': 30, 'criterion': 'entropy', etc) brought minor changes to stability while the Naive Bayes ('var_smoothing': 2.06913808111479e-06) had an impact to the final model.\n",
        "\n",
        "\n",
        "3. Insights and Future Directions:\n",
        "\n",
        "    --> Many other models like Random Boosting and XGBoost could be explored for classification dataset for evene better result. There was a critical classs imbalance as underrepresented categories led to misclassifications."
      ],
      "metadata": {
        "id": "m0Bv8oKgdEKU"
      }
    }
  ]
}